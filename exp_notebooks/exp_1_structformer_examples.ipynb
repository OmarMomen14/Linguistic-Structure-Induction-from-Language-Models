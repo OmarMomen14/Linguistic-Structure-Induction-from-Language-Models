{
 "cells": [
  {
   "cell_type": "code",
   "execution_count": 62,
   "metadata": {},
   "outputs": [],
   "source": [
    "import sys\n",
    "sys.path.append(\"..\")\n",
    "import data_penn\n",
    "import data_ptb\n",
    "import numpy as np\n",
    "import torch\n",
    "import seaborn as sns\n",
    "import tree_utils\n",
    "import collections\n",
    "import nltk\n",
    "import os\n",
    "import matplotlib as mpl\n",
    "from nltk.parse import DependencyGraph\n",
    "import matplotlib.pyplot as plt\n",
    "\n",
    "device = 'cuda'"
   ]
  },
  {
   "cell_type": "code",
   "execution_count": 63,
   "metadata": {},
   "outputs": [],
   "source": [
    "loaded_checkpoint = torch.load('../trained_models/2222.pt')"
   ]
  },
  {
   "cell_type": "code",
   "execution_count": 64,
   "metadata": {},
   "outputs": [],
   "source": [
    "loaded_model = loaded_checkpoint[0]"
   ]
  },
  {
   "cell_type": "code",
   "execution_count": 65,
   "metadata": {
    "scrolled": true,
    "tags": []
   },
   "outputs": [
    {
     "data": {
      "text/plain": [
       "StructFormer(\n",
       "  (drop): Dropout(p=0.1, inplace=False)\n",
       "  (emb): Embedding(10001, 512)\n",
       "  (pos_emb): Embedding(500, 512)\n",
       "  (layers): ModuleList(\n",
       "    (0): TransformerLayer(\n",
       "      (self_attn): MultiheadAttention(\n",
       "        (drop): Dropout(p=0, inplace=False)\n",
       "        (q_proj): Linear(in_features=512, out_features=512, bias=True)\n",
       "        (k_proj): Linear(in_features=512, out_features=512, bias=True)\n",
       "        (v_proj): Linear(in_features=512, out_features=512, bias=True)\n",
       "        (out_proj): Linear(in_features=512, out_features=512, bias=True)\n",
       "      )\n",
       "      (feedforward): Sequential(\n",
       "        (0): LayerNorm((512,), eps=1e-05, elementwise_affine=True)\n",
       "        (1): Linear(in_features=512, out_features=2048, bias=True)\n",
       "        (2): LeakyReLU(negative_slope=0.01)\n",
       "        (3): Dropout(p=0.1, inplace=False)\n",
       "        (4): Linear(in_features=2048, out_features=512, bias=True)\n",
       "      )\n",
       "      (norm): LayerNorm((512,), eps=1e-05, elementwise_affine=True)\n",
       "      (dropout1): Dropout(p=0.1, inplace=False)\n",
       "      (dropout2): Dropout(p=0.1, inplace=False)\n",
       "    )\n",
       "    (1): TransformerLayer(\n",
       "      (self_attn): MultiheadAttention(\n",
       "        (drop): Dropout(p=0, inplace=False)\n",
       "        (q_proj): Linear(in_features=512, out_features=512, bias=True)\n",
       "        (k_proj): Linear(in_features=512, out_features=512, bias=True)\n",
       "        (v_proj): Linear(in_features=512, out_features=512, bias=True)\n",
       "        (out_proj): Linear(in_features=512, out_features=512, bias=True)\n",
       "      )\n",
       "      (feedforward): Sequential(\n",
       "        (0): LayerNorm((512,), eps=1e-05, elementwise_affine=True)\n",
       "        (1): Linear(in_features=512, out_features=2048, bias=True)\n",
       "        (2): LeakyReLU(negative_slope=0.01)\n",
       "        (3): Dropout(p=0.1, inplace=False)\n",
       "        (4): Linear(in_features=2048, out_features=512, bias=True)\n",
       "      )\n",
       "      (norm): LayerNorm((512,), eps=1e-05, elementwise_affine=True)\n",
       "      (dropout1): Dropout(p=0.1, inplace=False)\n",
       "      (dropout2): Dropout(p=0.1, inplace=False)\n",
       "    )\n",
       "    (2): TransformerLayer(\n",
       "      (self_attn): MultiheadAttention(\n",
       "        (drop): Dropout(p=0, inplace=False)\n",
       "        (q_proj): Linear(in_features=512, out_features=512, bias=True)\n",
       "        (k_proj): Linear(in_features=512, out_features=512, bias=True)\n",
       "        (v_proj): Linear(in_features=512, out_features=512, bias=True)\n",
       "        (out_proj): Linear(in_features=512, out_features=512, bias=True)\n",
       "      )\n",
       "      (feedforward): Sequential(\n",
       "        (0): LayerNorm((512,), eps=1e-05, elementwise_affine=True)\n",
       "        (1): Linear(in_features=512, out_features=2048, bias=True)\n",
       "        (2): LeakyReLU(negative_slope=0.01)\n",
       "        (3): Dropout(p=0.1, inplace=False)\n",
       "        (4): Linear(in_features=2048, out_features=512, bias=True)\n",
       "      )\n",
       "      (norm): LayerNorm((512,), eps=1e-05, elementwise_affine=True)\n",
       "      (dropout1): Dropout(p=0.1, inplace=False)\n",
       "      (dropout2): Dropout(p=0.1, inplace=False)\n",
       "    )\n",
       "    (3): TransformerLayer(\n",
       "      (self_attn): MultiheadAttention(\n",
       "        (drop): Dropout(p=0, inplace=False)\n",
       "        (q_proj): Linear(in_features=512, out_features=512, bias=True)\n",
       "        (k_proj): Linear(in_features=512, out_features=512, bias=True)\n",
       "        (v_proj): Linear(in_features=512, out_features=512, bias=True)\n",
       "        (out_proj): Linear(in_features=512, out_features=512, bias=True)\n",
       "      )\n",
       "      (feedforward): Sequential(\n",
       "        (0): LayerNorm((512,), eps=1e-05, elementwise_affine=True)\n",
       "        (1): Linear(in_features=512, out_features=2048, bias=True)\n",
       "        (2): LeakyReLU(negative_slope=0.01)\n",
       "        (3): Dropout(p=0.1, inplace=False)\n",
       "        (4): Linear(in_features=2048, out_features=512, bias=True)\n",
       "      )\n",
       "      (norm): LayerNorm((512,), eps=1e-05, elementwise_affine=True)\n",
       "      (dropout1): Dropout(p=0.1, inplace=False)\n",
       "      (dropout2): Dropout(p=0.1, inplace=False)\n",
       "    )\n",
       "    (4): TransformerLayer(\n",
       "      (self_attn): MultiheadAttention(\n",
       "        (drop): Dropout(p=0, inplace=False)\n",
       "        (q_proj): Linear(in_features=512, out_features=512, bias=True)\n",
       "        (k_proj): Linear(in_features=512, out_features=512, bias=True)\n",
       "        (v_proj): Linear(in_features=512, out_features=512, bias=True)\n",
       "        (out_proj): Linear(in_features=512, out_features=512, bias=True)\n",
       "      )\n",
       "      (feedforward): Sequential(\n",
       "        (0): LayerNorm((512,), eps=1e-05, elementwise_affine=True)\n",
       "        (1): Linear(in_features=512, out_features=2048, bias=True)\n",
       "        (2): LeakyReLU(negative_slope=0.01)\n",
       "        (3): Dropout(p=0.1, inplace=False)\n",
       "        (4): Linear(in_features=2048, out_features=512, bias=True)\n",
       "      )\n",
       "      (norm): LayerNorm((512,), eps=1e-05, elementwise_affine=True)\n",
       "      (dropout1): Dropout(p=0.1, inplace=False)\n",
       "      (dropout2): Dropout(p=0.1, inplace=False)\n",
       "    )\n",
       "    (5): TransformerLayer(\n",
       "      (self_attn): MultiheadAttention(\n",
       "        (drop): Dropout(p=0, inplace=False)\n",
       "        (q_proj): Linear(in_features=512, out_features=512, bias=True)\n",
       "        (k_proj): Linear(in_features=512, out_features=512, bias=True)\n",
       "        (v_proj): Linear(in_features=512, out_features=512, bias=True)\n",
       "        (out_proj): Linear(in_features=512, out_features=512, bias=True)\n",
       "      )\n",
       "      (feedforward): Sequential(\n",
       "        (0): LayerNorm((512,), eps=1e-05, elementwise_affine=True)\n",
       "        (1): Linear(in_features=512, out_features=2048, bias=True)\n",
       "        (2): LeakyReLU(negative_slope=0.01)\n",
       "        (3): Dropout(p=0.1, inplace=False)\n",
       "        (4): Linear(in_features=2048, out_features=512, bias=True)\n",
       "      )\n",
       "      (norm): LayerNorm((512,), eps=1e-05, elementwise_affine=True)\n",
       "      (dropout1): Dropout(p=0.1, inplace=False)\n",
       "      (dropout2): Dropout(p=0.1, inplace=False)\n",
       "    )\n",
       "    (6): TransformerLayer(\n",
       "      (self_attn): MultiheadAttention(\n",
       "        (drop): Dropout(p=0, inplace=False)\n",
       "        (q_proj): Linear(in_features=512, out_features=512, bias=True)\n",
       "        (k_proj): Linear(in_features=512, out_features=512, bias=True)\n",
       "        (v_proj): Linear(in_features=512, out_features=512, bias=True)\n",
       "        (out_proj): Linear(in_features=512, out_features=512, bias=True)\n",
       "      )\n",
       "      (feedforward): Sequential(\n",
       "        (0): LayerNorm((512,), eps=1e-05, elementwise_affine=True)\n",
       "        (1): Linear(in_features=512, out_features=2048, bias=True)\n",
       "        (2): LeakyReLU(negative_slope=0.01)\n",
       "        (3): Dropout(p=0.1, inplace=False)\n",
       "        (4): Linear(in_features=2048, out_features=512, bias=True)\n",
       "      )\n",
       "      (norm): LayerNorm((512,), eps=1e-05, elementwise_affine=True)\n",
       "      (dropout1): Dropout(p=0.1, inplace=False)\n",
       "      (dropout2): Dropout(p=0.1, inplace=False)\n",
       "    )\n",
       "    (7): TransformerLayer(\n",
       "      (self_attn): MultiheadAttention(\n",
       "        (drop): Dropout(p=0, inplace=False)\n",
       "        (q_proj): Linear(in_features=512, out_features=512, bias=True)\n",
       "        (k_proj): Linear(in_features=512, out_features=512, bias=True)\n",
       "        (v_proj): Linear(in_features=512, out_features=512, bias=True)\n",
       "        (out_proj): Linear(in_features=512, out_features=512, bias=True)\n",
       "      )\n",
       "      (feedforward): Sequential(\n",
       "        (0): LayerNorm((512,), eps=1e-05, elementwise_affine=True)\n",
       "        (1): Linear(in_features=512, out_features=2048, bias=True)\n",
       "        (2): LeakyReLU(negative_slope=0.01)\n",
       "        (3): Dropout(p=0.1, inplace=False)\n",
       "        (4): Linear(in_features=2048, out_features=512, bias=True)\n",
       "      )\n",
       "      (norm): LayerNorm((512,), eps=1e-05, elementwise_affine=True)\n",
       "      (dropout1): Dropout(p=0.1, inplace=False)\n",
       "      (dropout2): Dropout(p=0.1, inplace=False)\n",
       "    )\n",
       "  )\n",
       "  (norm): LayerNorm((512,), eps=1e-05, elementwise_affine=True)\n",
       "  (output_layer): Linear(in_features=512, out_features=10001, bias=True)\n",
       "  (parser_layers): ModuleList(\n",
       "    (0): Sequential(\n",
       "      (0): Conv1d(\n",
       "        (conv): Conv1d(512, 512, kernel_size=(9,), stride=(1,), padding=(4,))\n",
       "      )\n",
       "      (1): LayerNorm((512,), eps=1e-05, elementwise_affine=False)\n",
       "      (2): Tanh()\n",
       "    )\n",
       "    (1): Sequential(\n",
       "      (0): Conv1d(\n",
       "        (conv): Conv1d(512, 512, kernel_size=(9,), stride=(1,), padding=(4,))\n",
       "      )\n",
       "      (1): LayerNorm((512,), eps=1e-05, elementwise_affine=False)\n",
       "      (2): Tanh()\n",
       "    )\n",
       "    (2): Sequential(\n",
       "      (0): Conv1d(\n",
       "        (conv): Conv1d(512, 512, kernel_size=(9,), stride=(1,), padding=(4,))\n",
       "      )\n",
       "      (1): LayerNorm((512,), eps=1e-05, elementwise_affine=False)\n",
       "      (2): Tanh()\n",
       "    )\n",
       "  )\n",
       "  (distance_ff): Sequential(\n",
       "    (0): Conv1d(\n",
       "      (conv): Conv1d(512, 512, kernel_size=(2,), stride=(1,), padding=(1,))\n",
       "    )\n",
       "    (1): LayerNorm((512,), eps=1e-05, elementwise_affine=False)\n",
       "    (2): Tanh()\n",
       "    (3): Linear(in_features=512, out_features=1, bias=True)\n",
       "  )\n",
       "  (height_ff): Sequential(\n",
       "    (0): Linear(in_features=512, out_features=512, bias=True)\n",
       "    (1): LayerNorm((512,), eps=1e-05, elementwise_affine=False)\n",
       "    (2): Tanh()\n",
       "    (3): Linear(in_features=512, out_features=1, bias=True)\n",
       "  )\n",
       ")"
      ]
     },
     "execution_count": 65,
     "metadata": {},
     "output_type": "execute_result"
    }
   ],
   "source": [
    "loaded_model.eval()"
   ]
  },
  {
   "cell_type": "code",
   "execution_count": 66,
   "metadata": {},
   "outputs": [
    {
     "data": {
      "text/plain": [
       "torch.Size([8, 8, 2])"
      ]
     },
     "execution_count": 66,
     "metadata": {},
     "output_type": "execute_result"
    }
   ],
   "source": [
    "loaded_model.rel_weight.shape"
   ]
  },
  {
   "cell_type": "code",
   "execution_count": 69,
   "metadata": {},
   "outputs": [],
   "source": [
    "mask_bernoulli = torch.distributions.Bernoulli(0.3)\n",
    "data = torch.LongTensor([ptb_corpus.test[412]]).to(device)\n",
    "pos = torch.LongTensor([list(range(len(ptb_corpus.test[412])))]).to(device)"
   ]
  },
  {
   "cell_type": "code",
   "execution_count": 73,
   "metadata": {},
   "outputs": [
    {
     "name": "stdout",
     "output_type": "stream",
     "text": [
      "Loading dictionary...\n"
     ]
    }
   ],
   "source": [
    "corpus = data_penn.Corpus('../data/penn')"
   ]
  },
  {
   "cell_type": "code",
   "execution_count": 74,
   "metadata": {},
   "outputs": [],
   "source": [
    "pad_token = corpus.dictionary.word2idx['<pad>']\n",
    "mask_token = corpus.dictionary.word2idx['<mask>']\n",
    "unk_token = corpus.dictionary.word2idx['<unk>']"
   ]
  },
  {
   "cell_type": "code",
   "execution_count": 75,
   "metadata": {},
   "outputs": [],
   "source": [
    "def mask_data(data):\n",
    "  \"\"\"randomly mask input sequence.\"\"\"\n",
    "  mask = mask_bernoulli.sample(data.shape).to(device).bool()\n",
    "  mask = mask * (data != pad_token) * (data != unk_token)\n",
    "  targets = data.masked_fill(~mask, pad_token)\n",
    "  data = data.masked_fill(mask, mask_token)\n",
    "  return data, targets"
   ]
  },
  {
   "cell_type": "code",
   "execution_count": 76,
   "metadata": {},
   "outputs": [],
   "source": [
    "data, targets = mask_data(data)"
   ]
  },
  {
   "cell_type": "code",
   "execution_count": 78,
   "metadata": {},
   "outputs": [
    {
     "data": {
      "text/plain": [
       "(1, 2, 0)"
      ]
     },
     "execution_count": 78,
     "metadata": {},
     "output_type": "execute_result"
    }
   ],
   "source": [
    "pad_token, mask_token, unk_token"
   ]
  },
  {
   "cell_type": "code",
   "execution_count": 77,
   "metadata": {},
   "outputs": [
    {
     "data": {
      "text/plain": [
       "tensor([[  0,   2, 252,   2,   2, 182,   2]], device='cuda:0')"
      ]
     },
     "execution_count": 77,
     "metadata": {},
     "output_type": "execute_result"
    }
   ],
   "source": [
    "data"
   ]
  },
  {
   "cell_type": "code",
   "execution_count": 79,
   "metadata": {},
   "outputs": [
    {
     "data": {
      "text/plain": [
       "tensor([[   1,  160,    1, 2034,  102,    1, 8674]], device='cuda:0')"
      ]
     },
     "execution_count": 79,
     "metadata": {},
     "output_type": "execute_result"
    }
   ],
   "source": [
    "targets"
   ]
  },
  {
   "cell_type": "code",
   "execution_count": 80,
   "metadata": {},
   "outputs": [],
   "source": [
    "with torch.no_grad():\n",
    "  logits = loaded_model(data, pos)"
   ]
  },
  {
   "cell_type": "code",
   "execution_count": 82,
   "metadata": {},
   "outputs": [
    {
     "data": {
      "text/plain": [
       "torch.Size([7, 10001])"
      ]
     },
     "execution_count": 82,
     "metadata": {},
     "output_type": "execute_result"
    }
   ],
   "source": [
    "logits[0].shape"
   ]
  },
  {
   "cell_type": "code",
   "execution_count": 83,
   "metadata": {},
   "outputs": [],
   "source": [
    "criterion = torch.nn.CrossEntropyLoss(ignore_index=pad_token)"
   ]
  },
  {
   "cell_type": "code",
   "execution_count": 85,
   "metadata": {},
   "outputs": [],
   "source": [
    "logits = logits[0]"
   ]
  },
  {
   "cell_type": "code",
   "execution_count": 90,
   "metadata": {},
   "outputs": [
    {
     "data": {
      "text/plain": [
       "(torch.Size([7, 10001]), torch.Size([7]))"
      ]
     },
     "execution_count": 90,
     "metadata": {},
     "output_type": "execute_result"
    }
   ],
   "source": [
    "logits.shape, targets.reshape(-1).shape"
   ]
  },
  {
   "cell_type": "code",
   "execution_count": 86,
   "metadata": {},
   "outputs": [],
   "source": [
    "loss = criterion(logits, targets.reshape(-1))"
   ]
  },
  {
   "cell_type": "code",
   "execution_count": 88,
   "metadata": {},
   "outputs": [
    {
     "data": {
      "text/plain": [
       "tensor(8.3731, device='cuda:0')"
      ]
     },
     "execution_count": 88,
     "metadata": {},
     "output_type": "execute_result"
    }
   ],
   "source": [
    "loss"
   ]
  },
  {
   "cell_type": "code",
   "execution_count": null,
   "metadata": {},
   "outputs": [],
   "source": []
  },
  {
   "cell_type": "code",
   "execution_count": null,
   "metadata": {},
   "outputs": [],
   "source": []
  },
  {
   "cell_type": "code",
   "execution_count": null,
   "metadata": {},
   "outputs": [],
   "source": []
  },
  {
   "cell_type": "code",
   "execution_count": null,
   "metadata": {},
   "outputs": [],
   "source": []
  },
  {
   "cell_type": "code",
   "execution_count": null,
   "metadata": {},
   "outputs": [],
   "source": []
  },
  {
   "cell_type": "code",
   "execution_count": null,
   "metadata": {},
   "outputs": [],
   "source": []
  },
  {
   "cell_type": "code",
   "execution_count": 41,
   "metadata": {},
   "outputs": [],
   "source": [
    "ptb_corpus = data_ptb.Corpus('../data/penn/')"
   ]
  },
  {
   "cell_type": "code",
   "execution_count": 42,
   "metadata": {},
   "outputs": [
    {
     "data": {
      "text/plain": [
       "(2416, 2416, 2416)"
      ]
     },
     "execution_count": 42,
     "metadata": {},
     "output_type": "execute_result"
    }
   ],
   "source": [
    "len(ptb_corpus.test_sens), len(ptb_corpus.test_trees), len(ptb_corpus.test_nltktrees)"
   ]
  },
  {
   "cell_type": "code",
   "execution_count": 43,
   "metadata": {},
   "outputs": [
    {
     "data": {
      "text/plain": [
       "['superconcentrates', 'are', \"n't\", 'entirely', 'new', 'for', 'p&g']"
      ]
     },
     "execution_count": 43,
     "metadata": {},
     "output_type": "execute_result"
    }
   ],
   "source": [
    "ptb_corpus.test_sens[412]"
   ]
  },
  {
   "cell_type": "code",
   "execution_count": 44,
   "metadata": {},
   "outputs": [
    {
     "data": {
      "text/plain": [
       "[0, 160, 252, 2034, 102, 182, 8674]"
      ]
     },
     "execution_count": 44,
     "metadata": {},
     "output_type": "execute_result"
    }
   ],
   "source": [
    "ptb_corpus.test[412]"
   ]
  },
  {
   "cell_type": "code",
   "execution_count": 45,
   "metadata": {},
   "outputs": [
    {
     "data": {
      "text/plain": [
       "['superconcentrates', ['are', \"n't\", ['entirely', 'new'], ['for', 'p&g']]]"
      ]
     },
     "execution_count": 45,
     "metadata": {},
     "output_type": "execute_result"
    }
   ],
   "source": [
    "ptb_corpus.test_trees[412]"
   ]
  },
  {
   "cell_type": "code",
   "execution_count": 46,
   "metadata": {},
   "outputs": [
    {
     "data": {
      "image/svg+xml": [
       "<svg baseProfile=\"full\" height=\"264px\" preserveAspectRatio=\"xMidYMid meet\" style=\"font-family: times, serif; font-weight: normal; font-style: normal; font-size: 16px;\" version=\"1.1\" viewBox=\"0,0,456.0,264.0\" width=\"456px\" xmlns=\"http://www.w3.org/2000/svg\" xmlns:ev=\"http://www.w3.org/2001/xml-events\" xmlns:xlink=\"http://www.w3.org/1999/xlink\"><defs /><svg width=\"100%\" x=\"0\" y=\"0px\"><defs /><text text-anchor=\"middle\" x=\"50%\" y=\"16px\">S</text></svg><svg width=\"33.3333%\" x=\"0%\" y=\"48px\"><defs /><svg width=\"100%\" x=\"0\" y=\"0px\"><defs /><text text-anchor=\"middle\" x=\"50%\" y=\"16px\">NP-SBJ</text></svg><svg width=\"100%\" x=\"0%\" y=\"48px\"><defs /><svg width=\"100%\" x=\"0\" y=\"0px\"><defs /><text text-anchor=\"middle\" x=\"50%\" y=\"16px\">NNS</text></svg><svg width=\"100%\" x=\"0%\" y=\"48px\"><defs /><svg width=\"100%\" x=\"0\" y=\"0px\"><defs /><text text-anchor=\"middle\" x=\"50%\" y=\"16px\">Superconcentrates</text></svg></svg><line stroke=\"black\" x1=\"50%\" x2=\"50%\" y1=\"19.2px\" y2=\"48px\" /></svg><line stroke=\"black\" x1=\"50%\" x2=\"50%\" y1=\"19.2px\" y2=\"48px\" /></svg><line stroke=\"black\" x1=\"50%\" x2=\"16.6667%\" y1=\"19.2px\" y2=\"48px\" /><svg width=\"61.4035%\" x=\"33.3333%\" y=\"48px\"><defs /><svg width=\"100%\" x=\"0\" y=\"0px\"><defs /><text text-anchor=\"middle\" x=\"50%\" y=\"16px\">VP</text></svg><svg width=\"14.2857%\" x=\"0%\" y=\"48px\"><defs /><svg width=\"100%\" x=\"0\" y=\"0px\"><defs /><text text-anchor=\"middle\" x=\"50%\" y=\"16px\">VBP</text></svg><svg width=\"100%\" x=\"0%\" y=\"48px\"><defs /><svg width=\"100%\" x=\"0\" y=\"0px\"><defs /><text text-anchor=\"middle\" x=\"50%\" y=\"16px\">are</text></svg></svg><line stroke=\"black\" x1=\"50%\" x2=\"50%\" y1=\"19.2px\" y2=\"48px\" /></svg><line stroke=\"black\" x1=\"50%\" x2=\"7.14286%\" y1=\"19.2px\" y2=\"48px\" /><svg width=\"14.2857%\" x=\"14.2857%\" y=\"48px\"><defs /><svg width=\"100%\" x=\"0\" y=\"0px\"><defs /><text text-anchor=\"middle\" x=\"50%\" y=\"16px\">RB</text></svg><svg width=\"100%\" x=\"0%\" y=\"48px\"><defs /><svg width=\"100%\" x=\"0\" y=\"0px\"><defs /><text text-anchor=\"middle\" x=\"50%\" y=\"16px\">n't</text></svg></svg><line stroke=\"black\" x1=\"50%\" x2=\"50%\" y1=\"19.2px\" y2=\"48px\" /></svg><line stroke=\"black\" x1=\"50%\" x2=\"21.4286%\" y1=\"19.2px\" y2=\"48px\" /><svg width=\"42.8571%\" x=\"28.5714%\" y=\"48px\"><defs /><svg width=\"100%\" x=\"0\" y=\"0px\"><defs /><text text-anchor=\"middle\" x=\"50%\" y=\"16px\">ADJP-PRD</text></svg><svg width=\"66.6667%\" x=\"0%\" y=\"48px\"><defs /><svg width=\"100%\" x=\"0\" y=\"0px\"><defs /><text text-anchor=\"middle\" x=\"50%\" y=\"16px\">RB</text></svg><svg width=\"100%\" x=\"0%\" y=\"48px\"><defs /><svg width=\"100%\" x=\"0\" y=\"0px\"><defs /><text text-anchor=\"middle\" x=\"50%\" y=\"16px\">entirely</text></svg></svg><line stroke=\"black\" x1=\"50%\" x2=\"50%\" y1=\"19.2px\" y2=\"48px\" /></svg><line stroke=\"black\" x1=\"50%\" x2=\"33.3333%\" y1=\"19.2px\" y2=\"48px\" /><svg width=\"33.3333%\" x=\"66.6667%\" y=\"48px\"><defs /><svg width=\"100%\" x=\"0\" y=\"0px\"><defs /><text text-anchor=\"middle\" x=\"50%\" y=\"16px\">JJ</text></svg><svg width=\"100%\" x=\"0%\" y=\"48px\"><defs /><svg width=\"100%\" x=\"0\" y=\"0px\"><defs /><text text-anchor=\"middle\" x=\"50%\" y=\"16px\">new</text></svg></svg><line stroke=\"black\" x1=\"50%\" x2=\"50%\" y1=\"19.2px\" y2=\"48px\" /></svg><line stroke=\"black\" x1=\"50%\" x2=\"83.3333%\" y1=\"19.2px\" y2=\"48px\" /></svg><line stroke=\"black\" x1=\"50%\" x2=\"50%\" y1=\"19.2px\" y2=\"48px\" /><svg width=\"28.5714%\" x=\"71.4286%\" y=\"48px\"><defs /><svg width=\"100%\" x=\"0\" y=\"0px\"><defs /><text text-anchor=\"middle\" x=\"50%\" y=\"16px\">PP</text></svg><svg width=\"50%\" x=\"0%\" y=\"48px\"><defs /><svg width=\"100%\" x=\"0\" y=\"0px\"><defs /><text text-anchor=\"middle\" x=\"50%\" y=\"16px\">IN</text></svg><svg width=\"100%\" x=\"0%\" y=\"48px\"><defs /><svg width=\"100%\" x=\"0\" y=\"0px\"><defs /><text text-anchor=\"middle\" x=\"50%\" y=\"16px\">for</text></svg></svg><line stroke=\"black\" x1=\"50%\" x2=\"50%\" y1=\"19.2px\" y2=\"48px\" /></svg><line stroke=\"black\" x1=\"50%\" x2=\"25%\" y1=\"19.2px\" y2=\"48px\" /><svg width=\"50%\" x=\"50%\" y=\"48px\"><defs /><svg width=\"100%\" x=\"0\" y=\"0px\"><defs /><text text-anchor=\"middle\" x=\"50%\" y=\"16px\">NP</text></svg><svg width=\"100%\" x=\"0%\" y=\"48px\"><defs /><svg width=\"100%\" x=\"0\" y=\"0px\"><defs /><text text-anchor=\"middle\" x=\"50%\" y=\"16px\">NNP</text></svg><svg width=\"100%\" x=\"0%\" y=\"48px\"><defs /><svg width=\"100%\" x=\"0\" y=\"0px\"><defs /><text text-anchor=\"middle\" x=\"50%\" y=\"16px\">P&amp;G</text></svg></svg><line stroke=\"black\" x1=\"50%\" x2=\"50%\" y1=\"19.2px\" y2=\"48px\" /></svg><line stroke=\"black\" x1=\"50%\" x2=\"50%\" y1=\"19.2px\" y2=\"48px\" /></svg><line stroke=\"black\" x1=\"50%\" x2=\"75%\" y1=\"19.2px\" y2=\"48px\" /></svg><line stroke=\"black\" x1=\"50%\" x2=\"85.7143%\" y1=\"19.2px\" y2=\"48px\" /></svg><line stroke=\"black\" x1=\"50%\" x2=\"64.0351%\" y1=\"19.2px\" y2=\"48px\" /><svg width=\"5.26316%\" x=\"94.7368%\" y=\"48px\"><defs /><svg width=\"100%\" x=\"0\" y=\"0px\"><defs /><text text-anchor=\"middle\" x=\"50%\" y=\"16px\">.</text></svg><svg width=\"100%\" x=\"0%\" y=\"48px\"><defs /><svg width=\"100%\" x=\"0\" y=\"0px\"><defs /><text text-anchor=\"middle\" x=\"50%\" y=\"16px\">.</text></svg></svg><line stroke=\"black\" x1=\"50%\" x2=\"50%\" y1=\"19.2px\" y2=\"48px\" /></svg><line stroke=\"black\" x1=\"50%\" x2=\"97.3684%\" y1=\"19.2px\" y2=\"48px\" /></svg>"
      ],
      "text/plain": [
       "Tree('S', [Tree('NP-SBJ', [Tree('NNS', ['Superconcentrates'])]), Tree('VP', [Tree('VBP', ['are']), Tree('RB', [\"n't\"]), Tree('ADJP-PRD', [Tree('RB', ['entirely']), Tree('JJ', ['new'])]), Tree('PP', [Tree('IN', ['for']), Tree('NP', [Tree('NNP', ['P&G'])])])]), Tree('.', ['.'])])"
      ]
     },
     "execution_count": 46,
     "metadata": {},
     "output_type": "execute_result"
    }
   ],
   "source": [
    "ptb_corpus.test_nltktrees[412]"
   ]
  },
  {
   "cell_type": "code",
   "execution_count": 47,
   "metadata": {},
   "outputs": [
    {
     "name": "stderr",
     "output_type": "stream",
     "text": [
      "/home/omar/miniconda3/envs/structformer/lib/python3.6/site-packages/spacy/displacy/__init__.py:106: UserWarning: [W011] It looks like you're calling displacy.serve from within a Jupyter notebook or a similar environment. This likely means you're already running a local web server, so there's no need to make displaCy start another one. Instead, you should be able to replace displacy.serve with displacy.render to show the visualization.\n",
      "  warnings.warn(Warnings.W011)\n"
     ]
    },
    {
     "data": {
      "text/html": [
       "<span class=\"tex2jax_ignore\"><!DOCTYPE html>\n",
       "<html lang=\"en\">\n",
       "    <head>\n",
       "        <title>displaCy</title>\n",
       "    </head>\n",
       "\n",
       "    <body style=\"font-size: 16px; font-family: -apple-system, BlinkMacSystemFont, 'Segoe UI', Helvetica, Arial, sans-serif, 'Apple Color Emoji', 'Segoe UI Emoji', 'Segoe UI Symbol'; padding: 4rem 2rem; direction: ltr\">\n",
       "<figure style=\"margin-bottom: 6rem\">\n",
       "<svg xmlns=\"http://www.w3.org/2000/svg\" xmlns:xlink=\"http://www.w3.org/1999/xlink\" xml:lang=\"en\" id=\"a56ce9c9432f46698d531856766cf707-0\" class=\"displacy\" width=\"1275\" height=\"312.0\" direction=\"ltr\" style=\"max-width: none; height: 312.0px; color: #000000; background: #ffffff; font-family: Arial; direction: ltr\">\n",
       "<text class=\"displacy-token\" fill=\"currentColor\" text-anchor=\"middle\" y=\"222.0\">\n",
       "    <tspan class=\"displacy-word\" fill=\"currentColor\" x=\"50\">Superconcentrates</tspan>\n",
       "    <tspan class=\"displacy-tag\" dy=\"2em\" fill=\"currentColor\" x=\"50\">NOUN</tspan>\n",
       "</text>\n",
       "\n",
       "<text class=\"displacy-token\" fill=\"currentColor\" text-anchor=\"middle\" y=\"222.0\">\n",
       "    <tspan class=\"displacy-word\" fill=\"currentColor\" x=\"225\">are</tspan>\n",
       "    <tspan class=\"displacy-tag\" dy=\"2em\" fill=\"currentColor\" x=\"225\">AUX</tspan>\n",
       "</text>\n",
       "\n",
       "<text class=\"displacy-token\" fill=\"currentColor\" text-anchor=\"middle\" y=\"222.0\">\n",
       "    <tspan class=\"displacy-word\" fill=\"currentColor\" x=\"400\">n't</tspan>\n",
       "    <tspan class=\"displacy-tag\" dy=\"2em\" fill=\"currentColor\" x=\"400\">PART</tspan>\n",
       "</text>\n",
       "\n",
       "<text class=\"displacy-token\" fill=\"currentColor\" text-anchor=\"middle\" y=\"222.0\">\n",
       "    <tspan class=\"displacy-word\" fill=\"currentColor\" x=\"575\">entirely</tspan>\n",
       "    <tspan class=\"displacy-tag\" dy=\"2em\" fill=\"currentColor\" x=\"575\">ADV</tspan>\n",
       "</text>\n",
       "\n",
       "<text class=\"displacy-token\" fill=\"currentColor\" text-anchor=\"middle\" y=\"222.0\">\n",
       "    <tspan class=\"displacy-word\" fill=\"currentColor\" x=\"750\">new</tspan>\n",
       "    <tspan class=\"displacy-tag\" dy=\"2em\" fill=\"currentColor\" x=\"750\">ADJ</tspan>\n",
       "</text>\n",
       "\n",
       "<text class=\"displacy-token\" fill=\"currentColor\" text-anchor=\"middle\" y=\"222.0\">\n",
       "    <tspan class=\"displacy-word\" fill=\"currentColor\" x=\"925\">for</tspan>\n",
       "    <tspan class=\"displacy-tag\" dy=\"2em\" fill=\"currentColor\" x=\"925\">ADP</tspan>\n",
       "</text>\n",
       "\n",
       "<text class=\"displacy-token\" fill=\"currentColor\" text-anchor=\"middle\" y=\"222.0\">\n",
       "    <tspan class=\"displacy-word\" fill=\"currentColor\" x=\"1100\">P&amp;G.</tspan>\n",
       "    <tspan class=\"displacy-tag\" dy=\"2em\" fill=\"currentColor\" x=\"1100\">PROPN</tspan>\n",
       "</text>\n",
       "\n",
       "<g class=\"displacy-arrow\">\n",
       "    <path class=\"displacy-arc\" id=\"arrow-a56ce9c9432f46698d531856766cf707-0-0\" stroke-width=\"2px\" d=\"M70,177.0 C70,89.5 220.0,89.5 220.0,177.0\" fill=\"none\" stroke=\"currentColor\"/>\n",
       "    <text dy=\"1.25em\" style=\"font-size: 0.8em; letter-spacing: 1px\">\n",
       "        <textPath xlink:href=\"#arrow-a56ce9c9432f46698d531856766cf707-0-0\" class=\"displacy-label\" startOffset=\"50%\" side=\"left\" fill=\"currentColor\" text-anchor=\"middle\">nsubj</textPath>\n",
       "    </text>\n",
       "    <path class=\"displacy-arrowhead\" d=\"M70,179.0 L62,167.0 78,167.0\" fill=\"currentColor\"/>\n",
       "</g>\n",
       "\n",
       "<g class=\"displacy-arrow\">\n",
       "    <path class=\"displacy-arc\" id=\"arrow-a56ce9c9432f46698d531856766cf707-0-1\" stroke-width=\"2px\" d=\"M245,177.0 C245,89.5 395.0,89.5 395.0,177.0\" fill=\"none\" stroke=\"currentColor\"/>\n",
       "    <text dy=\"1.25em\" style=\"font-size: 0.8em; letter-spacing: 1px\">\n",
       "        <textPath xlink:href=\"#arrow-a56ce9c9432f46698d531856766cf707-0-1\" class=\"displacy-label\" startOffset=\"50%\" side=\"left\" fill=\"currentColor\" text-anchor=\"middle\">neg</textPath>\n",
       "    </text>\n",
       "    <path class=\"displacy-arrowhead\" d=\"M395.0,179.0 L403.0,167.0 387.0,167.0\" fill=\"currentColor\"/>\n",
       "</g>\n",
       "\n",
       "<g class=\"displacy-arrow\">\n",
       "    <path class=\"displacy-arc\" id=\"arrow-a56ce9c9432f46698d531856766cf707-0-2\" stroke-width=\"2px\" d=\"M595,177.0 C595,89.5 745.0,89.5 745.0,177.0\" fill=\"none\" stroke=\"currentColor\"/>\n",
       "    <text dy=\"1.25em\" style=\"font-size: 0.8em; letter-spacing: 1px\">\n",
       "        <textPath xlink:href=\"#arrow-a56ce9c9432f46698d531856766cf707-0-2\" class=\"displacy-label\" startOffset=\"50%\" side=\"left\" fill=\"currentColor\" text-anchor=\"middle\">advmod</textPath>\n",
       "    </text>\n",
       "    <path class=\"displacy-arrowhead\" d=\"M595,179.0 L587,167.0 603,167.0\" fill=\"currentColor\"/>\n",
       "</g>\n",
       "\n",
       "<g class=\"displacy-arrow\">\n",
       "    <path class=\"displacy-arc\" id=\"arrow-a56ce9c9432f46698d531856766cf707-0-3\" stroke-width=\"2px\" d=\"M245,177.0 C245,2.0 750.0,2.0 750.0,177.0\" fill=\"none\" stroke=\"currentColor\"/>\n",
       "    <text dy=\"1.25em\" style=\"font-size: 0.8em; letter-spacing: 1px\">\n",
       "        <textPath xlink:href=\"#arrow-a56ce9c9432f46698d531856766cf707-0-3\" class=\"displacy-label\" startOffset=\"50%\" side=\"left\" fill=\"currentColor\" text-anchor=\"middle\">acomp</textPath>\n",
       "    </text>\n",
       "    <path class=\"displacy-arrowhead\" d=\"M750.0,179.0 L758.0,167.0 742.0,167.0\" fill=\"currentColor\"/>\n",
       "</g>\n",
       "\n",
       "<g class=\"displacy-arrow\">\n",
       "    <path class=\"displacy-arc\" id=\"arrow-a56ce9c9432f46698d531856766cf707-0-4\" stroke-width=\"2px\" d=\"M770,177.0 C770,89.5 920.0,89.5 920.0,177.0\" fill=\"none\" stroke=\"currentColor\"/>\n",
       "    <text dy=\"1.25em\" style=\"font-size: 0.8em; letter-spacing: 1px\">\n",
       "        <textPath xlink:href=\"#arrow-a56ce9c9432f46698d531856766cf707-0-4\" class=\"displacy-label\" startOffset=\"50%\" side=\"left\" fill=\"currentColor\" text-anchor=\"middle\">prep</textPath>\n",
       "    </text>\n",
       "    <path class=\"displacy-arrowhead\" d=\"M920.0,179.0 L928.0,167.0 912.0,167.0\" fill=\"currentColor\"/>\n",
       "</g>\n",
       "\n",
       "<g class=\"displacy-arrow\">\n",
       "    <path class=\"displacy-arc\" id=\"arrow-a56ce9c9432f46698d531856766cf707-0-5\" stroke-width=\"2px\" d=\"M945,177.0 C945,89.5 1095.0,89.5 1095.0,177.0\" fill=\"none\" stroke=\"currentColor\"/>\n",
       "    <text dy=\"1.25em\" style=\"font-size: 0.8em; letter-spacing: 1px\">\n",
       "        <textPath xlink:href=\"#arrow-a56ce9c9432f46698d531856766cf707-0-5\" class=\"displacy-label\" startOffset=\"50%\" side=\"left\" fill=\"currentColor\" text-anchor=\"middle\">pobj</textPath>\n",
       "    </text>\n",
       "    <path class=\"displacy-arrowhead\" d=\"M1095.0,179.0 L1103.0,167.0 1087.0,167.0\" fill=\"currentColor\"/>\n",
       "</g>\n",
       "</svg>\n",
       "</figure>\n",
       "</body>\n",
       "</html></span>"
      ],
      "text/plain": [
       "<IPython.core.display.HTML object>"
      ]
     },
     "metadata": {},
     "output_type": "display_data"
    },
    {
     "name": "stdout",
     "output_type": "stream",
     "text": [
      "\n",
      "Using the 'dep' visualizer\n",
      "Serving on http://0.0.0.0:5000 ...\n",
      "\n",
      "Shutting down server on port 5000.\n"
     ]
    }
   ],
   "source": [
    "import spacy\n",
    "nlp = spacy.load(\"en_core_web_lg\")\n",
    "doc = nlp(\"Superconcentrates aren't entirely new for P&G.\")\n",
    "spacy.displacy.serve(doc, style=\"dep\")"
   ]
  },
  {
   "cell_type": "code",
   "execution_count": 48,
   "metadata": {},
   "outputs": [],
   "source": [
    "data = torch.LongTensor([ptb_corpus.test[412]]).to(device)\n",
    "pos = torch.LongTensor([list(range(len(ptb_corpus.test[412])))]).to(device)"
   ]
  },
  {
   "cell_type": "code",
   "execution_count": 49,
   "metadata": {},
   "outputs": [
    {
     "data": {
      "text/plain": [
       "(tensor([[   0,  160,  252, 2034,  102,  182, 8674]], device='cuda:0'),\n",
       " tensor([[0, 1, 2, 3, 4, 5, 6]], device='cuda:0'))"
      ]
     },
     "execution_count": 49,
     "metadata": {},
     "output_type": "execute_result"
    }
   ],
   "source": [
    "data, pos"
   ]
  },
  {
   "cell_type": "code",
   "execution_count": 50,
   "metadata": {},
   "outputs": [],
   "source": [
    "with torch.no_grad():\n",
    "    output, p_dict = loaded_model(data, pos)"
   ]
  },
  {
   "cell_type": "code",
   "execution_count": 51,
   "metadata": {},
   "outputs": [
    {
     "data": {
      "text/plain": [
       "(torch.Size([7, 10001]),\n",
       " dict_keys(['raw_output', 'distance', 'height', 'cibling', 'head', 'block']))"
      ]
     },
     "execution_count": 51,
     "metadata": {},
     "output_type": "execute_result"
    }
   ],
   "source": [
    "output.shape, p_dict.keys()"
   ]
  },
  {
   "cell_type": "code",
   "execution_count": 52,
   "metadata": {},
   "outputs": [],
   "source": [
    "distance = p_dict['distance'].detach().clone().squeeze(0).cpu().numpy().tolist()\n",
    "height = p_dict['height'].detach().clone().squeeze(0).cpu().numpy().tolist()"
   ]
  },
  {
   "cell_type": "code",
   "execution_count": 53,
   "metadata": {},
   "outputs": [
    {
     "name": "stdout",
     "output_type": "stream",
     "text": [
      "0.848\n",
      "-0.208\n",
      "-0.636\n",
      "-0.339\n",
      "0.233\n",
      "0.151\n",
      "1000000000.0\n"
     ]
    }
   ],
   "source": [
    "for d in distance:\n",
    "    print(round(d, 3))"
   ]
  },
  {
   "cell_type": "code",
   "execution_count": 54,
   "metadata": {},
   "outputs": [
    {
     "name": "stdout",
     "output_type": "stream",
     "text": [
      "0.943\n",
      "-0.016\n",
      "-0.065\n",
      "0.515\n",
      "0.33\n",
      "0.151\n",
      "1.294\n"
     ]
    }
   ],
   "source": [
    "for h in height:\n",
    "    print(round(h, 3))"
   ]
  },
  {
   "cell_type": "code",
   "execution_count": 55,
   "metadata": {},
   "outputs": [],
   "source": [
    "parse_tree = tree_utils.build_tree(distance, ptb_corpus.test_sens[412])"
   ]
  },
  {
   "cell_type": "code",
   "execution_count": 57,
   "metadata": {},
   "outputs": [
    {
     "data": {
      "text/plain": [
       "['superconcentrates', [['are', [[\"n't\", 'entirely'], 'new']], ['for', 'p&g']]]"
      ]
     },
     "execution_count": 57,
     "metadata": {},
     "output_type": "execute_result"
    }
   ],
   "source": [
    "parse_tree"
   ]
  },
  {
   "cell_type": "code",
   "execution_count": 58,
   "metadata": {},
   "outputs": [
    {
     "data": {
      "text/plain": [
       "{(1, 5), (1, 7), (2, 4), (2, 5), (5, 7)}"
      ]
     },
     "execution_count": 58,
     "metadata": {},
     "output_type": "execute_result"
    }
   ],
   "source": [
    "model_out, _ = tree_utils.get_brackets(parse_tree)\n",
    "model_out"
   ]
  },
  {
   "cell_type": "code",
   "execution_count": 59,
   "metadata": {},
   "outputs": [
    {
     "data": {
      "text/plain": [
       "{(1, 7), (3, 5), (5, 7)}"
      ]
     },
     "execution_count": 59,
     "metadata": {},
     "output_type": "execute_result"
    }
   ],
   "source": [
    "std_out, _ = tree_utils.get_brackets(ptb_corpus.test_trees[412])\n",
    "std_out"
   ]
  },
  {
   "cell_type": "code",
   "execution_count": 60,
   "metadata": {},
   "outputs": [
    {
     "data": {
      "text/plain": [
       "{(1, 7), (5, 7)}"
      ]
     },
     "execution_count": 60,
     "metadata": {},
     "output_type": "execute_result"
    }
   ],
   "source": [
    "overlap = model_out.intersection(std_out)\n",
    "overlap"
   ]
  },
  {
   "cell_type": "code",
   "execution_count": 61,
   "metadata": {},
   "outputs": [
    {
     "name": "stdout",
     "output_type": "stream",
     "text": [
      "{'address': 1, 'word': 'Superconcentrates', 'lemma': None, 'ctag': None, 'tag': 'NNS', 'feats': None, 'head': 7, 'deps': defaultdict(<class 'list'>, {}), 'rel': None, 'distance': 0.8475630283355713, 'height': 0.9430140256881714}\n",
      "{'address': 2, 'word': 'are', 'lemma': None, 'ctag': None, 'tag': 'VBP', 'feats': None, 'head': 7, 'deps': defaultdict(<class 'list'>, {}), 'rel': None, 'distance': -0.20808053016662598, 'height': -0.01571407914161682}\n",
      "{'address': 3, 'word': \"n't\", 'lemma': None, 'ctag': None, 'tag': 'RB', 'feats': None, 'head': 4, 'deps': defaultdict(<class 'list'>, {}), 'rel': None, 'distance': -0.6360270977020264, 'height': -0.06527014821767807}\n",
      "{'address': 4, 'word': 'entirely', 'lemma': None, 'ctag': None, 'tag': 'RB', 'feats': None, 'head': 7, 'deps': defaultdict(<class 'list'>, {}), 'rel': None, 'distance': -0.33850157260894775, 'height': 0.515226423740387}\n",
      "{'address': 5, 'word': 'new', 'lemma': None, 'ctag': None, 'tag': 'JJ', 'feats': None, 'head': 7, 'deps': defaultdict(<class 'list'>, {}), 'rel': None, 'distance': 0.23296046257019043, 'height': 0.32991263270378113}\n",
      "{'address': 6, 'word': 'for', 'lemma': None, 'ctag': None, 'tag': 'IN', 'feats': None, 'head': 7, 'deps': defaultdict(<class 'list'>, {}), 'rel': None, 'distance': 0.15088891983032227, 'height': 0.15088900923728943}\n",
      "{'address': 7, 'word': 'P&G', 'lemma': None, 'ctag': None, 'tag': 'NNP', 'feats': None, 'head': 0, 'deps': defaultdict(<class 'list'>, {}), 'rel': None, 'distance': 1000000000.0, 'height': 1.293591856956482}\n"
     ]
    }
   ],
   "source": [
    "true_words = ptb_corpus.test_nltktrees[412].pos()\n",
    "new_words = []\n",
    "max_height = max(p_dict['height'][0])\n",
    "for d, c, w, ph in zip(distance, height, ptb_corpus.test_sens[412], p_dict['head'][0].detach().cpu().numpy()):\n",
    "    next_word = true_words.pop(0)\n",
    "    while next_word[1] not in data_ptb.WORD_TAGS:\n",
    "        next_word = true_words.pop(0)\n",
    "    new_words.append({\n",
    "            'address': len(new_words) + 1,\n",
    "            'word': next_word[0],\n",
    "            'lemma': None,\n",
    "            'ctag': None,\n",
    "            'tag': next_word[1],\n",
    "            'feats': None,\n",
    "            'head': np.argmax(ph) + 1 if c < max_height else 0,\n",
    "            'deps': collections.defaultdict(list),\n",
    "            'rel': None,\n",
    "            'distance': d,\n",
    "            'height': c\n",
    "        })\n",
    "    print(new_words[-1])"
   ]
  },
  {
   "cell_type": "markdown",
   "metadata": {},
   "source": [
    "building the dep tree:\n",
    "    \n",
    "    for each word i:\n",
    "        assign the head to the argmax of the head vector (i.e the word with the highest probability in Pd(j|i) where is the word we are currently looking at)"
   ]
  },
  {
   "cell_type": "code",
   "execution_count": 23,
   "metadata": {},
   "outputs": [],
   "source": [
    "from nltk.parse import DependencyGraph\n",
    "dtree = DependencyGraph()\n",
    "for w in new_words:\n",
    "    dtree.add_node(w)"
   ]
  },
  {
   "cell_type": "code",
   "execution_count": 24,
   "metadata": {},
   "outputs": [
    {
     "name": "stdout",
     "output_type": "stream",
     "text": [
      "1\tThe\tNone\tNone\tDT\tNone\t3\tNone\t_\t_\n",
      "2\tDow\tNone\tNone\tNNP\tNone\t3\tNone\t_\t_\n",
      "3\tindustrials\tNone\tNone\tNNS\tNone\t0\tNone\t_\t_\n",
      "4\twere\tNone\tNone\tVBD\tNone\t3\tNone\t_\t_\n",
      "5\tdown\tNone\tNone\tRB\tNone\t7\tNone\t_\t_\n",
      "6\t55\tNone\tNone\tCD\tNone\t7\tNone\t_\t_\n",
      "7\tpoints\tNone\tNone\tNNS\tNone\t10\tNone\t_\t_\n",
      "8\tat\tNone\tNone\tIN\tNone\t10\tNone\t_\t_\n",
      "9\t3\tNone\tNone\tCD\tNone\t10\tNone\t_\t_\n",
      "10\tp.m.\tNone\tNone\tRB\tNone\t11\tNone\t_\t_\n",
      "11\tbefore\tNone\tNone\tIN\tNone\t14\tNone\t_\t_\n",
      "12\tthe\tNone\tNone\tDT\tNone\t14\tNone\t_\t_\n",
      "13\tfutures-trading\tNone\tNone\tJJ\tNone\t14\tNone\t_\t_\n",
      "14\thalt\tNone\tNone\tNN\tNone\t11\tNone\t_\t_\n",
      "\n"
     ]
    }
   ],
   "source": [
    "print(dtree.to_conll(10))"
   ]
  },
  {
   "cell_type": "code",
   "execution_count": 2,
   "metadata": {},
   "outputs": [],
   "source": [
    "import numpy as np"
   ]
  },
  {
   "cell_type": "code",
   "execution_count": 8,
   "metadata": {},
   "outputs": [
    {
     "name": "stdout",
     "output_type": "stream",
     "text": [
      "4\n"
     ]
    }
   ],
   "source": [
    "import numpy as np\n",
    "\n",
    "# Assuming your numpy list is named 'my_list'\n",
    "my_list = np.array([1, 5, 3, 2, 4])\n",
    "\n",
    "# Get the indices of the maximum 2 values\n",
    "max_indices = np.argsort(my_list)[-2]\n",
    "\n",
    "print(max_indices)\n"
   ]
  },
  {
   "cell_type": "code",
   "execution_count": 4,
   "metadata": {},
   "outputs": [
    {
     "ename": "AxisError",
     "evalue": "axis 2 is out of bounds for array of dimension 1",
     "output_type": "error",
     "traceback": [
      "\u001b[0;31m---------------------------------------------------------------------------\u001b[0m",
      "\u001b[0;31mAxisError\u001b[0m                                 Traceback (most recent call last)",
      "\u001b[0;32m<ipython-input-4-7e385c61b851>\u001b[0m in \u001b[0;36m<module>\u001b[0;34m\u001b[0m\n\u001b[0;32m----> 1\u001b[0;31m \u001b[0mnp\u001b[0m\u001b[0;34m.\u001b[0m\u001b[0margmax\u001b[0m\u001b[0;34m(\u001b[0m\u001b[0;34m[\u001b[0m\u001b[0;36m1\u001b[0m\u001b[0;34m,\u001b[0m\u001b[0;36m2\u001b[0m\u001b[0;34m,\u001b[0m\u001b[0;36m3\u001b[0m\u001b[0;34m,\u001b[0m\u001b[0;36m4\u001b[0m\u001b[0;34m,\u001b[0m\u001b[0;36m5\u001b[0m\u001b[0;34m,\u001b[0m\u001b[0;36m6\u001b[0m\u001b[0;34m,\u001b[0m\u001b[0;36m7\u001b[0m\u001b[0;34m,\u001b[0m\u001b[0;36m8\u001b[0m\u001b[0;34m,\u001b[0m\u001b[0;36m9\u001b[0m\u001b[0;34m,\u001b[0m\u001b[0;36m10\u001b[0m\u001b[0;34m]\u001b[0m\u001b[0;34m,\u001b[0m\u001b[0;36m2\u001b[0m\u001b[0;34m)\u001b[0m\u001b[0;34m\u001b[0m\u001b[0;34m\u001b[0m\u001b[0m\n\u001b[0m",
      "\u001b[0;32m<__array_function__ internals>\u001b[0m in \u001b[0;36margmax\u001b[0;34m(*args, **kwargs)\u001b[0m\n",
      "\u001b[0;32m~/miniconda3/envs/structformer/lib/python3.6/site-packages/numpy/core/fromnumeric.py\u001b[0m in \u001b[0;36margmax\u001b[0;34m(a, axis, out)\u001b[0m\n\u001b[1;32m   1186\u001b[0m \u001b[0;34m\u001b[0m\u001b[0m\n\u001b[1;32m   1187\u001b[0m     \"\"\"\n\u001b[0;32m-> 1188\u001b[0;31m     \u001b[0;32mreturn\u001b[0m \u001b[0m_wrapfunc\u001b[0m\u001b[0;34m(\u001b[0m\u001b[0ma\u001b[0m\u001b[0;34m,\u001b[0m \u001b[0;34m'argmax'\u001b[0m\u001b[0;34m,\u001b[0m \u001b[0maxis\u001b[0m\u001b[0;34m=\u001b[0m\u001b[0maxis\u001b[0m\u001b[0;34m,\u001b[0m \u001b[0mout\u001b[0m\u001b[0;34m=\u001b[0m\u001b[0mout\u001b[0m\u001b[0;34m)\u001b[0m\u001b[0;34m\u001b[0m\u001b[0;34m\u001b[0m\u001b[0m\n\u001b[0m\u001b[1;32m   1189\u001b[0m \u001b[0;34m\u001b[0m\u001b[0m\n\u001b[1;32m   1190\u001b[0m \u001b[0;34m\u001b[0m\u001b[0m\n",
      "\u001b[0;32m~/miniconda3/envs/structformer/lib/python3.6/site-packages/numpy/core/fromnumeric.py\u001b[0m in \u001b[0;36m_wrapfunc\u001b[0;34m(obj, method, *args, **kwds)\u001b[0m\n\u001b[1;32m     53\u001b[0m     \u001b[0mbound\u001b[0m \u001b[0;34m=\u001b[0m \u001b[0mgetattr\u001b[0m\u001b[0;34m(\u001b[0m\u001b[0mobj\u001b[0m\u001b[0;34m,\u001b[0m \u001b[0mmethod\u001b[0m\u001b[0;34m,\u001b[0m \u001b[0;32mNone\u001b[0m\u001b[0;34m)\u001b[0m\u001b[0;34m\u001b[0m\u001b[0;34m\u001b[0m\u001b[0m\n\u001b[1;32m     54\u001b[0m     \u001b[0;32mif\u001b[0m \u001b[0mbound\u001b[0m \u001b[0;32mis\u001b[0m \u001b[0;32mNone\u001b[0m\u001b[0;34m:\u001b[0m\u001b[0;34m\u001b[0m\u001b[0;34m\u001b[0m\u001b[0m\n\u001b[0;32m---> 55\u001b[0;31m         \u001b[0;32mreturn\u001b[0m \u001b[0m_wrapit\u001b[0m\u001b[0;34m(\u001b[0m\u001b[0mobj\u001b[0m\u001b[0;34m,\u001b[0m \u001b[0mmethod\u001b[0m\u001b[0;34m,\u001b[0m \u001b[0;34m*\u001b[0m\u001b[0margs\u001b[0m\u001b[0;34m,\u001b[0m \u001b[0;34m**\u001b[0m\u001b[0mkwds\u001b[0m\u001b[0;34m)\u001b[0m\u001b[0;34m\u001b[0m\u001b[0;34m\u001b[0m\u001b[0m\n\u001b[0m\u001b[1;32m     56\u001b[0m \u001b[0;34m\u001b[0m\u001b[0m\n\u001b[1;32m     57\u001b[0m     \u001b[0;32mtry\u001b[0m\u001b[0;34m:\u001b[0m\u001b[0;34m\u001b[0m\u001b[0;34m\u001b[0m\u001b[0m\n",
      "\u001b[0;32m~/miniconda3/envs/structformer/lib/python3.6/site-packages/numpy/core/fromnumeric.py\u001b[0m in \u001b[0;36m_wrapit\u001b[0;34m(obj, method, *args, **kwds)\u001b[0m\n\u001b[1;32m     42\u001b[0m     \u001b[0;32mexcept\u001b[0m \u001b[0mAttributeError\u001b[0m\u001b[0;34m:\u001b[0m\u001b[0;34m\u001b[0m\u001b[0;34m\u001b[0m\u001b[0m\n\u001b[1;32m     43\u001b[0m         \u001b[0mwrap\u001b[0m \u001b[0;34m=\u001b[0m \u001b[0;32mNone\u001b[0m\u001b[0;34m\u001b[0m\u001b[0;34m\u001b[0m\u001b[0m\n\u001b[0;32m---> 44\u001b[0;31m     \u001b[0mresult\u001b[0m \u001b[0;34m=\u001b[0m \u001b[0mgetattr\u001b[0m\u001b[0;34m(\u001b[0m\u001b[0masarray\u001b[0m\u001b[0;34m(\u001b[0m\u001b[0mobj\u001b[0m\u001b[0;34m)\u001b[0m\u001b[0;34m,\u001b[0m \u001b[0mmethod\u001b[0m\u001b[0;34m)\u001b[0m\u001b[0;34m(\u001b[0m\u001b[0;34m*\u001b[0m\u001b[0margs\u001b[0m\u001b[0;34m,\u001b[0m \u001b[0;34m**\u001b[0m\u001b[0mkwds\u001b[0m\u001b[0;34m)\u001b[0m\u001b[0;34m\u001b[0m\u001b[0;34m\u001b[0m\u001b[0m\n\u001b[0m\u001b[1;32m     45\u001b[0m     \u001b[0;32mif\u001b[0m \u001b[0mwrap\u001b[0m\u001b[0;34m:\u001b[0m\u001b[0;34m\u001b[0m\u001b[0;34m\u001b[0m\u001b[0m\n\u001b[1;32m     46\u001b[0m         \u001b[0;32mif\u001b[0m \u001b[0;32mnot\u001b[0m \u001b[0misinstance\u001b[0m\u001b[0;34m(\u001b[0m\u001b[0mresult\u001b[0m\u001b[0;34m,\u001b[0m \u001b[0mmu\u001b[0m\u001b[0;34m.\u001b[0m\u001b[0mndarray\u001b[0m\u001b[0;34m)\u001b[0m\u001b[0;34m:\u001b[0m\u001b[0;34m\u001b[0m\u001b[0;34m\u001b[0m\u001b[0m\n",
      "\u001b[0;31mAxisError\u001b[0m: axis 2 is out of bounds for array of dimension 1"
     ]
    }
   ],
   "source": [
    "np.argmax(\n",
    "    [1,2,3,4,5,6,7,8,9,10])"
   ]
  },
  {
   "cell_type": "code",
   "execution_count": 25,
   "metadata": {},
   "outputs": [
    {
     "data": {
      "text/plain": [
       "[('the', 'industrials'),\n",
       " ('dow', 'industrials'),\n",
       " ('industrials', '<s>'),\n",
       " ('were', 'industrials'),\n",
       " ('down', 'points'),\n",
       " ('55', 'points'),\n",
       " ('points', 'p.m.'),\n",
       " ('at', 'p.m.'),\n",
       " ('3', 'p.m.'),\n",
       " ('p.m.', 'before'),\n",
       " ('before', 'halt'),\n",
       " ('the', 'halt'),\n",
       " ('futures-trading', 'halt'),\n",
       " ('halt', 'before')]"
      ]
     },
     "execution_count": 25,
     "metadata": {},
     "output_type": "execute_result"
    }
   ],
   "source": [
    "tree_utils.get_dep(dtree, directed=True)"
   ]
  },
  {
   "cell_type": "code",
   "execution_count": null,
   "metadata": {},
   "outputs": [],
   "source": [
    " with open(trg_file_path, 'r') as trg_file:\n",
    "    trg_string = trg_file.read().strip()\n",
    "    trg_string_list = trg_string.split('\\n\\n')\n",
    "    try:\n",
    "      trg_list = [\n",
    "          DependencyGraph(t, top_relation_label='root') for t in trg_string_list\n",
    "      ]\n",
    "    except ValueError:\n",
    "\n",
    "      def extract_10_cells(cells, index):\n",
    "        line_index, word, lemma, tag, _, head, rel, _, _, _ = cells\n",
    "        try:\n",
    "          index = int(line_index)\n",
    "        except ValueError:\n",
    "          # index can't be parsed as an integer, use default\n",
    "          pass\n",
    "        return index, word, lemma, tag, tag, '', head, rel\n",
    "\n",
    "      trg_list = [\n",
    "          DependencyGraph(\n",
    "              t, top_relation_label='root', cell_extractor=extract_10_cells)\n",
    "          for t in trg_string_list\n",
    "      ]\n",
    "\n",
    "  correct = 0.0\n",
    "  total = 0.0\n",
    "  for prd, trg in zip(prd_list, trg_list):\n",
    "    # assert len(prd.nodes) == len(trg.nodes)\n",
    "    prd_deps = get_dep(prd, directed)\n",
    "    trg_deps = get_dep(trg, directed)\n",
    "    if len(prd_deps) != len(trg_deps):\n",
    "      print(prd)\n",
    "      print(prd_deps, len(prd_deps))\n",
    "      print(trg)\n",
    "      print(trg_deps, len(trg_deps))\n",
    "      raise Exception\n",
    "\n",
    "    for d in prd_deps:\n",
    "      if d in trg_deps:\n",
    "        correct += 1\n",
    "    total += len(prd_deps)\n",
    "  acc = correct / total\n",
    "\n",
    "  if directed:\n",
    "    print('DDA: %.3f' % acc)\n",
    "  else:\n",
    "    print('UDA: %.3f' % acc)\n",
    "  return acc"
   ]
  },
  {
   "cell_type": "code",
   "execution_count": null,
   "metadata": {},
   "outputs": [],
   "source": []
  },
  {
   "cell_type": "code",
   "execution_count": 29,
   "metadata": {},
   "outputs": [],
   "source": [
    "words = ['<unk>', \"are\", \"n't\", 'entirely', 'new', 'for', 'p&g']"
   ]
  },
  {
   "cell_type": "code",
   "execution_count": 34,
   "metadata": {},
   "outputs": [
    {
     "data": {
      "image/png": "[encoded data removed]",
      "text/plain": [
       "<Figure size 1800x1584 with 2 Axes>"
      ]
     },
     "metadata": {
      "needs_background": "light"
     },
     "output_type": "display_data"
    }
   ],
   "source": [
    "plt.figure(figsize=(25, 22))  # Set the figure size to 10 inches by 8 inches\n",
    "heatmap = sns.heatmap(p_dict['head'][0].detach().cpu(), cmap=\"YlGnBu\", annot=True, fmt=\".3f\", xticklabels=words, yticklabels=words, annot_kws={\"fontsize\": 23})\n",
    "heatmap.set_xticklabels(heatmap.get_xticklabels(), fontsize=30)\n",
    "heatmap.set_yticklabels(heatmap.get_yticklabels(), fontsize=30)\n",
    "plt.savefig('heatmap.png')  # Save the figure as a PNG image\n",
    "plt.show()\n",
    "\n",
    "\n",
    "# plt.figure(figsize=(25, 22))  # Set the figure size to 10 inches by 8 inches\n",
    "# heatmap = sns.heatmap(p_dict['head'][0].detach().cpu(), cmap=\"YlGnBu\", annot=True, fmt=\".3f\", xticklabels=words, yticklabels=words)\n",
    "# heatmap.set_xticklabels(heatmap.get_xticklabels(), fontsize=23,)\n",
    "# heatmap.set_yticklabels(heatmap.get_yticklabels(), fontsize=23,)\n",
    "# plt.savefig('heatmap.png')  # Save the figure as a PNG image\n",
    "# plt.show()\n",
    "\n",
    "\n",
    "# plt.figure(figsize=(25, 22))  # Set the figure size to 10 inches by 8 inches\n",
    "# heatmap = sns.heatmap(p_dict['head'][0].detach().cpu(), cmap=\"YlGnBu\", annot=True, fmt=\".3f\", xticklabels=words, yticklabels=words)\n",
    "# heatmap.set_xticklabels(heatmap.get_xticklabels(), fontsize=23,)\n",
    "# heatmap.set_yticklabels(heatmap.get_yticklabels(), fontsize=23,)\n",
    "# plt.show()\n",
    "\n",
    "\n",
    "# plt.figure(figsize=(15, 13))  # Set the figure size to 10 inches by 8 inches\n",
    "# heatmap = sns.heatmap(p_dict['head'][0].detach().cpu(), cmap=\"YlGnBu\", annot=False, xticklabels=words, yticklabels=words)\n",
    "# heatmap.set_xticklabels(heatmap.get_xticklabels(), fontsize=23, fontweight='bold')\n",
    "# heatmap.set_yticklabels(heatmap.get_yticklabels(), fontsize=23, fontweight='bold')\n",
    "# plt.show()"
   ]
  },
  {
   "cell_type": "code",
   "execution_count": null,
   "metadata": {},
   "outputs": [],
   "source": []
  },
  {
   "cell_type": "code",
   "execution_count": 30,
   "metadata": {},
   "outputs": [
    {
     "data": {
      "text/plain": [
       "torch.Size([8, 8, 2])"
      ]
     },
     "execution_count": 30,
     "metadata": {},
     "output_type": "execute_result"
    }
   ],
   "source": [
    "loaded_model.rel_weight.shape"
   ]
  },
  {
   "cell_type": "code",
   "execution_count": null,
   "metadata": {},
   "outputs": [],
   "source": []
  },
  {
   "cell_type": "code",
   "execution_count": 31,
   "metadata": {},
   "outputs": [
    {
     "data": {
      "text/plain": [
       "tensor([[[0.5966, 0.4034],\n",
       "         [0.6503, 0.3497],\n",
       "         [0.5139, 0.4861],\n",
       "         [0.5170, 0.4830],\n",
       "         [0.4346, 0.5654],\n",
       "         [0.4092, 0.5908],\n",
       "         [0.6638, 0.3362],\n",
       "         [0.4848, 0.5152]],\n",
       "\n",
       "        [[0.5162, 0.4838],\n",
       "         [0.6850, 0.3150],\n",
       "         [0.4855, 0.5145],\n",
       "         [0.3539, 0.6461],\n",
       "         [0.4128, 0.5872],\n",
       "         [0.3083, 0.6917],\n",
       "         [0.4952, 0.5048],\n",
       "         [0.4226, 0.5774]],\n",
       "\n",
       "        [[0.4722, 0.5278],\n",
       "         [0.4386, 0.5614],\n",
       "         [0.4265, 0.5735],\n",
       "         [0.5060, 0.4940],\n",
       "         [0.4577, 0.5423],\n",
       "         [0.5342, 0.4658],\n",
       "         [0.4409, 0.5591],\n",
       "         [0.3180, 0.6820]],\n",
       "\n",
       "        [[0.4053, 0.5947],\n",
       "         [0.4821, 0.5179],\n",
       "         [0.4122, 0.5878],\n",
       "         [0.3130, 0.6870],\n",
       "         [0.3796, 0.6204],\n",
       "         [0.4544, 0.5456],\n",
       "         [0.4010, 0.5990],\n",
       "         [0.4149, 0.5851]],\n",
       "\n",
       "        [[0.3609, 0.6391],\n",
       "         [0.5549, 0.4451],\n",
       "         [0.4747, 0.5253],\n",
       "         [0.5905, 0.4095],\n",
       "         [0.2824, 0.7176],\n",
       "         [0.5103, 0.4897],\n",
       "         [0.4347, 0.5653],\n",
       "         [0.5327, 0.4673]],\n",
       "\n",
       "        [[0.4691, 0.5309],\n",
       "         [0.3818, 0.6182],\n",
       "         [0.5288, 0.4712],\n",
       "         [0.4716, 0.5284],\n",
       "         [0.3203, 0.6797],\n",
       "         [0.5848, 0.4152],\n",
       "         [0.5829, 0.4171],\n",
       "         [0.3683, 0.6317]],\n",
       "\n",
       "        [[0.4118, 0.5882],\n",
       "         [0.4880, 0.5120],\n",
       "         [0.5720, 0.4280],\n",
       "         [0.4443, 0.5557],\n",
       "         [0.3572, 0.6428],\n",
       "         [0.5086, 0.4914],\n",
       "         [0.5165, 0.4835],\n",
       "         [0.5778, 0.4222]],\n",
       "\n",
       "        [[0.5928, 0.4072],\n",
       "         [0.4556, 0.5444],\n",
       "         [0.5481, 0.4519],\n",
       "         [0.5183, 0.4817],\n",
       "         [0.5165, 0.4835],\n",
       "         [0.5135, 0.4865],\n",
       "         [0.4056, 0.5944],\n",
       "         [0.5391, 0.4609]]], device='cuda:0', grad_fn=<SoftmaxBackward0>)"
      ]
     },
     "execution_count": 31,
     "metadata": {},
     "output_type": "execute_result"
    }
   ],
   "source": [
    "loaded_model.rel_weight"
   ]
  },
  {
   "cell_type": "code",
   "execution_count": null,
   "metadata": {},
   "outputs": [],
   "source": []
  },
  {
   "cell_type": "code",
   "execution_count": null,
   "metadata": {},
   "outputs": [],
   "source": []
  },
  {
   "cell_type": "code",
   "execution_count": null,
   "metadata": {},
   "outputs": [],
   "source": []
  }
 ],
 "metadata": {
  "kernelspec": {
   "display_name": "Python 3",
   "language": "python",
   "name": "python3"
  },
  "language_info": {
   "codemirror_mode": {
    "name": "ipython",
    "version": 3
   },
   "file_extension": ".py",
   "mimetype": "text/x-python",
   "name": "python",
   "nbconvert_exporter": "python",
   "pygments_lexer": "ipython3",
   "version": "3.6.13"
  }
 },
 "nbformat": 4,
 "nbformat_minor": 4
}
